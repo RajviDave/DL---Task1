{
  "nbformat": 4,
  "nbformat_minor": 0,
  "metadata": {
    "colab": {
      "provenance": []
    },
    "kernelspec": {
      "name": "python3",
      "display_name": "Python 3"
    },
    "language_info": {
      "name": "python"
    }
  },
  "cells": [
    {
      "cell_type": "code",
      "execution_count": 1,
      "metadata": {
        "id": "3M7C-dpVQ2Bw"
      },
      "outputs": [],
      "source": [
        "import pandas as pd\n",
        "from itertools import combinations"
      ]
    },
    {
      "cell_type": "code",
      "source": [
        "# Load the cosine similarity matrix (make sure this file is in the same folder)\n",
        "similarity_df = pd.read_excel('/content/Researcher_Cosine_Similarity.xlsx', index_col=0)"
      ],
      "metadata": {
        "id": "6fbjVbHuRHDV"
      },
      "execution_count": 2,
      "outputs": []
    },
    {
      "cell_type": "code",
      "source": [
        "# Clean column names (sometimes Excel adds unnamed columns)\n",
        "similarity_df.columns = [col.strip() for col in similarity_df.columns]"
      ],
      "metadata": {
        "id": "NrwoPeMlRK8B"
      },
      "execution_count": 3,
      "outputs": []
    },
    {
      "cell_type": "code",
      "source": [
        "# Generate all unique researcher pairs (exclude self-pairs)\n",
        "pairs = []\n",
        "for res1, res2 in combinations(similarity_df.index, 2):\n",
        "    sim_score = similarity_df.loc[res1, res2]\n",
        "    pairs.append((res1, res2, sim_score))\n"
      ],
      "metadata": {
        "id": "Pd7kc-cqRNCc"
      },
      "execution_count": 4,
      "outputs": []
    },
    {
      "cell_type": "code",
      "source": [
        "# Sort by similarity (ascending → more diverse)\n",
        "diverse_pairs = sorted(pairs, key=lambda x: x[2])"
      ],
      "metadata": {
        "id": "tE6H37VBROzT"
      },
      "execution_count": 5,
      "outputs": []
    },
    {
      "cell_type": "code",
      "source": [
        "# Select top 3 diverse pairs for potential interdisciplinary collaboration\n",
        "top_3_diverse_collabs = diverse_pairs[:3]"
      ],
      "metadata": {
        "id": "rXYblryRRQgj"
      },
      "execution_count": 6,
      "outputs": []
    },
    {
      "cell_type": "code",
      "source": [
        "# Print the results\n",
        "print(\" Top 3 Recommended Interdisciplinary Research Collaborations:\\n\")\n",
        "for i, (r1, r2, score) in enumerate(top_3_diverse_collabs, start=1):\n",
        "    print(f\"{i}. {r1} ↔ {r2} (Cosine Similarity: {score:.2f}) — High thematic diversity\")"
      ],
      "metadata": {
        "colab": {
          "base_uri": "https://localhost:8080/"
        },
        "id": "Lg6voOjCRR-6",
        "outputId": "2193ad32-93c8-4fff-a58a-3107e7c5e0bc"
      },
      "execution_count": 8,
      "outputs": [
        {
          "output_type": "stream",
          "name": "stdout",
          "text": [
            " Top 3 Recommended Interdisciplinary Research Collaborations:\n",
            "\n",
            "1. Milad Alshomary ↔ Shuo Wang (Cosine Similarity: 0.03) — High thematic diversity\n",
            "2. Diane M. Napolitano ↔ Shuo Wang (Cosine Similarity: 0.04) — High thematic diversity\n",
            "3. Milad Alshomary ↔ Sourav Ghosh (Cosine Similarity: 0.04) — High thematic diversity\n"
          ]
        }
      ]
    },
    {
      "cell_type": "code",
      "source": [
        "output_df = pd.DataFrame(top_3_diverse_collabs, columns=[\"Researcher_1\", \"Researcher_2\", \"Cosine_Similarity\"])\n",
        "output_df.to_excel(\"Top_3_Interdisciplinary_Collaborations.xlsx\", index=False)"
      ],
      "metadata": {
        "id": "zHQoKLd6RTzN"
      },
      "execution_count": 9,
      "outputs": []
    },
    {
      "cell_type": "code",
      "source": [
        "# Sort by similarity descending (most similar at top)\n",
        "similar_pairs = sorted(pairs, key=lambda x: x[2], reverse=True)"
      ],
      "metadata": {
        "id": "88dbOCLORZHD"
      },
      "execution_count": 10,
      "outputs": []
    },
    {
      "cell_type": "code",
      "source": [
        "# Take the topmost pair\n",
        "most_similar_pair = similar_pairs[0]"
      ],
      "metadata": {
        "id": "_R9tFl-ESU6t"
      },
      "execution_count": 11,
      "outputs": []
    },
    {
      "cell_type": "code",
      "source": [
        "# Print result\n",
        "print(\" Most Similar Researcher Pair (Shared Research Interest):\")\n",
        "print(f\"{most_similar_pair[0]} ↔ {most_similar_pair[1]} (Cosine Similarity: {most_similar_pair[2]:.2f})\")"
      ],
      "metadata": {
        "colab": {
          "base_uri": "https://localhost:8080/"
        },
        "id": "OzQSlieGSWVI",
        "outputId": "0bc837bd-915c-48c5-fd12-7dcc670e590c"
      },
      "execution_count": 13,
      "outputs": [
        {
          "output_type": "stream",
          "name": "stdout",
          "text": [
            " Most Similar Researcher Pair (Shared Research Interest):\n",
            "Rudolf Rosa ↔ John E. Ortega (Cosine Similarity: 0.36)\n"
          ]
        }
      ]
    },
    {
      "cell_type": "code",
      "source": [
        "# Optional: save to file\n",
        "similar_df = pd.DataFrame([most_similar_pair], columns=[\"Researcher_1\", \"Researcher_2\", \"Cosine_Similarity\"])\n",
        "similar_df.to_excel(\"Most_Similar_Researchers.xlsx\", index=False)"
      ],
      "metadata": {
        "id": "KevOMidESYSK"
      },
      "execution_count": 14,
      "outputs": []
    },
    {
      "cell_type": "code",
      "source": [],
      "metadata": {
        "id": "nNnl01SxScPg"
      },
      "execution_count": null,
      "outputs": []
    }
  ]
}