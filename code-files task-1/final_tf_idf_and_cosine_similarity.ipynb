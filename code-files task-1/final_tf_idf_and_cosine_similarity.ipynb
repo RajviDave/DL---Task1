{
  "nbformat": 4,
  "nbformat_minor": 0,
  "metadata": {
    "colab": {
      "provenance": []
    },
    "kernelspec": {
      "name": "python3",
      "display_name": "Python 3"
    },
    "language_info": {
      "name": "python"
    }
  },
  "cells": [
    {
      "cell_type": "code",
      "execution_count": 1,
      "metadata": {
        "id": "9oS7Pm3rHZ0J"
      },
      "outputs": [],
      "source": [
        "import pandas as pd\n",
        "import numpy as np\n",
        "from sklearn.feature_extraction.text import CountVectorizer, TfidfTransformer\n",
        "from sklearn.preprocessing import normalize"
      ]
    },
    {
      "cell_type": "code",
      "source": [
        "# Load the dataset\n",
        "df = pd.read_excel('/content/cleaned_combined_Abstract.xlsx')"
      ],
      "metadata": {
        "id": "GihDdx4MIOPu"
      },
      "execution_count": 2,
      "outputs": []
    },
    {
      "cell_type": "code",
      "source": [
        "# Step 1: Compute TF (term frequency) for each researcher\n",
        "vectorizer_tf = CountVectorizer()\n",
        "tf_matrix = vectorizer_tf.fit_transform(df['Cleaned_Abstract'])\n",
        "tf_df = pd.DataFrame(tf_matrix.toarray(), columns=vectorizer_tf.get_feature_names_out(), index=df['Researcher'])"
      ],
      "metadata": {
        "id": "V8ta3FY7IkQs"
      },
      "execution_count": 20,
      "outputs": []
    },
    {
      "cell_type": "code",
      "source": [
        "# Step 2: Compute IDF using all combined abstracts\n",
        "transformer_idf = TfidfTransformer(use_idf=True, smooth_idf=True, sublinear_tf=False)\n",
        "transformer_idf.fit(tf_matrix)  # fit on the full corpus\n",
        "idf_values = transformer_idf.idf_\n",
        "idf_dict = dict(zip(vectorizer_tf.get_feature_names_out(), idf_values))\n",
        "idf_df = pd.DataFrame([idf_dict])"
      ],
      "metadata": {
        "id": "rE0bpj8wImwe"
      },
      "execution_count": 21,
      "outputs": []
    },
    {
      "cell_type": "code",
      "source": [
        "# Step 3: Compute TF-IDF by multiplying TF × IDF manually\n",
        "tf_idf_df = tf_df.copy()\n",
        "for word in tf_df.columns:\n",
        "    tf_idf_df[word] = tf_df[word] * idf_dict[word]"
      ],
      "metadata": {
        "id": "gKybsnzaIuon"
      },
      "execution_count": 22,
      "outputs": []
    },
    {
      "cell_type": "code",
      "source": [
        "tf_idf_df_normalized = pd.DataFrame(normalize(tf_idf_df, norm='l2'),\n",
        "                                    columns=tf_idf_df.columns,\n",
        "                                    index=tf_idf_df.index)"
      ],
      "metadata": {
        "id": "fwLzOuKLI5Go"
      },
      "execution_count": 23,
      "outputs": []
    },
    {
      "cell_type": "code",
      "source": [
        "# Save outputs\n",
        "tf_df.to_excel('TF_by_Researcher.xlsx')\n",
        "idf_df.to_excel('IDF_Global.xlsx', index=False)\n",
        "tf_idf_df.to_excel('TF_IDF_by_Researcher.xlsx')\n",
        "tf_idf_df_normalized.to_excel('TF_IDF_Normalized.xlsx')"
      ],
      "metadata": {
        "id": "l4-MTEyCI_Z6"
      },
      "execution_count": 24,
      "outputs": []
    },
    {
      "cell_type": "code",
      "source": [
        "# Define how many top keywords you want per researcher\n",
        "TOP_N = 10"
      ],
      "metadata": {
        "id": "6pEF4BoTJEdw"
      },
      "execution_count": 25,
      "outputs": []
    },
    {
      "cell_type": "code",
      "source": [
        "# Extract top N TF-IDF keywords for each researcher\n",
        "top_keywords_per_researcher = {}"
      ],
      "metadata": {
        "id": "X_4f_Ww8K5yL"
      },
      "execution_count": 26,
      "outputs": []
    },
    {
      "cell_type": "code",
      "source": [
        "for researcher in tf_idf_df.index:\n",
        "    tfidf_scores = tf_idf_df.loc[researcher]\n",
        "    top_keywords = tfidf_scores.sort_values(ascending=False).head(TOP_N).index.tolist()\n",
        "    top_keywords_per_researcher[researcher] = top_keywords"
      ],
      "metadata": {
        "id": "-CI8AmcQK7VY"
      },
      "execution_count": 27,
      "outputs": []
    },
    {
      "cell_type": "code",
      "source": [
        "# Convert to DataFrame for readability\n",
        "keywords_df = pd.DataFrame([\n",
        "    {'Researcher': researcher, 'Top_Keywords': ', '.join(keywords)}\n",
        "    for researcher, keywords in top_keywords_per_researcher.items()\n",
        "])"
      ],
      "metadata": {
        "id": "r8jP6HuqK9nK"
      },
      "execution_count": 28,
      "outputs": []
    },
    {
      "cell_type": "code",
      "source": [
        "# Save to Excel\n",
        "keywords_df.to_excel('Researcher_Top_Keywords.xlsx', index=False)"
      ],
      "metadata": {
        "id": "lyPFVHdUK_ke"
      },
      "execution_count": 29,
      "outputs": []
    },
    {
      "cell_type": "code",
      "source": [
        "print(keywords_df.head())"
      ],
      "metadata": {
        "colab": {
          "base_uri": "https://localhost:8080/"
        },
        "id": "MZwo3ntdLBsF",
        "outputId": "c774ac58-dc28-4b62-fa31-48b734e9a9f0"
      },
      "execution_count": 30,
      "outputs": [
        {
          "output_type": "stream",
          "name": "stdout",
          "text": [
            "            Researcher                                       Top_Keywords\n",
            "0          Raphael Shu  dialogue, style, translation, temporal, model,...\n",
            "1        Cunliang Kong  definitions, definition, chinese, task, comple...\n",
            "2  Diane M. Napolitano  writing, texts, skills, english, complexity, i...\n",
            "3        Yi-Ling Chung  counter, hate, online, content, disinformation...\n",
            "4             Zheng Xu  training, adversarial, networks, gradient, adm...\n"
          ]
        }
      ]
    },
    {
      "cell_type": "code",
      "source": [
        "from sklearn.metrics.pairwise import cosine_similarity"
      ],
      "metadata": {
        "id": "V4aPp7ivLDfq"
      },
      "execution_count": 31,
      "outputs": []
    },
    {
      "cell_type": "code",
      "source": [
        "cosine_sim_matrix = cosine_similarity(tf_idf_df)"
      ],
      "metadata": {
        "id": "YnqZjcuoPLeY"
      },
      "execution_count": 32,
      "outputs": []
    },
    {
      "cell_type": "code",
      "source": [
        "similarity_df = pd.DataFrame(cosine_sim_matrix,\n",
        "                             index=tf_idf_df.index,\n",
        "                             columns=tf_idf_df.index)"
      ],
      "metadata": {
        "id": "7GbNZVUQPNG_"
      },
      "execution_count": 33,
      "outputs": []
    },
    {
      "cell_type": "code",
      "source": [
        "similarity_df.to_excel('Researcher_Cosine_Similarity.xlsx')"
      ],
      "metadata": {
        "id": "pnoFX5AqPOum"
      },
      "execution_count": 34,
      "outputs": []
    },
    {
      "cell_type": "code",
      "source": [
        "print(similarity_df.head())\n"
      ],
      "metadata": {
        "colab": {
          "base_uri": "https://localhost:8080/"
        },
        "id": "lX0Vo7GuPQT1",
        "outputId": "831976a5-c3a7-4df9-ae11-ee4b9cd16b3c"
      },
      "execution_count": 35,
      "outputs": [
        {
          "output_type": "stream",
          "name": "stdout",
          "text": [
            "Researcher           Raphael Shu  Cunliang Kong  Diane M. Napolitano  \\\n",
            "Researcher                                                             \n",
            "Raphael Shu             1.000000       0.267735             0.129286   \n",
            "Cunliang Kong           0.267735       1.000000             0.227437   \n",
            "Diane M. Napolitano     0.129286       0.227437             1.000000   \n",
            "Yi-Ling Chung           0.175189       0.225041             0.131473   \n",
            "Zheng Xu                0.246032       0.136821             0.098251   \n",
            "\n",
            "Researcher           Yi-Ling Chung  Zheng Xu  Artur Kulmizev  Vikas Bahirwani  \\\n",
            "Researcher                                                                      \n",
            "Raphael Shu               0.175189  0.246032        0.227490         0.158493   \n",
            "Cunliang Kong             0.225041  0.136821        0.249330         0.113072   \n",
            "Diane M. Napolitano       0.131473  0.098251        0.144030         0.114196   \n",
            "Yi-Ling Chung             1.000000  0.113476        0.176268         0.091450   \n",
            "Zheng Xu                  0.113476  1.000000        0.170221         0.125849   \n",
            "\n",
            "Researcher           Milad Alshomary  Nan Jiang  Rudolf Rosa  Shuo Wang  \\\n",
            "Researcher                                                                \n",
            "Raphael Shu                 0.167586   0.153970     0.266662   0.077529   \n",
            "Cunliang Kong               0.169148   0.114765     0.177305   0.047207   \n",
            "Diane M. Napolitano         0.109729   0.089653     0.138361   0.035435   \n",
            "Yi-Ling Chung               0.157308   0.094082     0.131303   0.039487   \n",
            "Zheng Xu                    0.075923   0.151463     0.124076   0.067501   \n",
            "\n",
            "Researcher           Kevin Jesse  John E. Ortega  Won Ik Cho  Chao Shang  \\\n",
            "Researcher                                                                 \n",
            "Raphael Shu             0.213295        0.267424    0.232434    0.263212   \n",
            "Cunliang Kong           0.146016        0.217027    0.236935    0.175265   \n",
            "Diane M. Napolitano     0.124670        0.184956    0.201249    0.100947   \n",
            "Yi-Ling Chung           0.141416        0.204727    0.233579    0.140935   \n",
            "Zheng Xu                0.150795        0.146528    0.158091    0.238219   \n",
            "\n",
            "Researcher           Younes Samih  Yoshihiko Hayashi  Rajkumar Pujari  \\\n",
            "Researcher                                                              \n",
            "Raphael Shu              0.168375           0.065395         0.213300   \n",
            "Cunliang Kong            0.181880           0.049697         0.209905   \n",
            "Diane M. Napolitano      0.140484           0.061411         0.123812   \n",
            "Yi-Ling Chung            0.153453           0.059762         0.132895   \n",
            "Zheng Xu                 0.136122           0.057653         0.129229   \n",
            "\n",
            "Researcher           Sourav Ghosh  \n",
            "Researcher                         \n",
            "Raphael Shu              0.077483  \n",
            "Cunliang Kong            0.051617  \n",
            "Diane M. Napolitano      0.049214  \n",
            "Yi-Ling Chung            0.050159  \n",
            "Zheng Xu                 0.056106  \n"
          ]
        }
      ]
    },
    {
      "cell_type": "code",
      "source": [],
      "metadata": {
        "id": "-BsTQV-YPYp6"
      },
      "execution_count": null,
      "outputs": []
    }
  ]
}